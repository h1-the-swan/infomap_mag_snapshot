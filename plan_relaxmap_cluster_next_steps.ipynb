{
 "cells": [
  {
   "cell_type": "code",
   "execution_count": 1,
   "metadata": {
    "collapsed": true
   },
   "outputs": [],
   "source": [
    "import sys, os, time\n",
    "from timeit import default_timer as timer\n",
    "from humanfriendly import format_timespan"
   ]
  },
  {
   "cell_type": "code",
   "execution_count": 2,
   "metadata": {
    "collapsed": true
   },
   "outputs": [],
   "source": [
    "import pandas as pd\n",
    "import numpy as np\n",
    "import matplotlib.pyplot as plt"
   ]
  },
  {
   "cell_type": "code",
   "execution_count": 3,
   "metadata": {
    "collapsed": true
   },
   "outputs": [],
   "source": [
    "%matplotlib inline"
   ]
  },
  {
   "cell_type": "code",
   "execution_count": 17,
   "metadata": {
    "collapsed": true
   },
   "outputs": [],
   "source": [
    "start = timer()\n",
    "d = []\n",
    "with open('data/', 'r') as f:\n",
    "    for i, line in enumerate(f):\n",
    "        if line[0] == \"#\":\n",
    "            continue\n",
    "        line = line.strip().split(' ')\n",
    "        this_row = {}\n",
    "        this_row['cl'] = int(line[0].split(':')[0])\n",
    "        this_row['ef'] = float(line[1])\n",
    "        this_row['paper_id'] = line[2].strip('\"')\n",
    "        d.append(this_row)"
   ]
  },
  {
   "cell_type": "code",
   "execution_count": 18,
   "metadata": {},
   "outputs": [
    {
     "name": "stdout",
     "output_type": "stream",
     "text": [
      "3 minutes and 48.36 seconds\n"
     ]
    }
   ],
   "source": [
    "print(format_timespan(timer()-start))"
   ]
  },
  {
   "cell_type": "code",
   "execution_count": 19,
   "metadata": {},
   "outputs": [
    {
     "name": "stdout",
     "output_type": "stream",
     "text": [
      "2 minutes and 22.8 seconds\n"
     ]
    }
   ],
   "source": [
    "start = timer()\n",
    "df = pd.DataFrame(d)\n",
    "print(format_timespan(timer()-start))"
   ]
  },
  {
   "cell_type": "code",
   "execution_count": 20,
   "metadata": {},
   "outputs": [
    {
     "data": {
      "text/plain": [
       "(77071690, 3)"
      ]
     },
     "execution_count": 20,
     "metadata": {},
     "output_type": "execute_result"
    }
   ],
   "source": [
    "df.shape"
   ]
  },
  {
   "cell_type": "code",
   "execution_count": 21,
   "metadata": {},
   "outputs": [
    {
     "data": {
      "text/plain": [
       "1395247    70336\n",
       "17462      67606\n",
       "47090      64902\n",
       "8254       62911\n",
       "37791      59260\n",
       "3895735    56040\n",
       "45274      54693\n",
       "12398      52291\n",
       "517846     50968\n",
       "1772       47894\n",
       "2255739    47543\n",
       "1043449    44848\n",
       "3375       44309\n",
       "159478     43645\n",
       "184076     42870\n",
       "731335     42071\n",
       "89137      41534\n",
       "923732     40981\n",
       "80655      40492\n",
       "93175      39935\n",
       "87447      39631\n",
       "1418889    39312\n",
       "143350     38569\n",
       "1592944    38355\n",
       "262031     38345\n",
       "556759     38265\n",
       "76943      37691\n",
       "3240167    37562\n",
       "222735     37201\n",
       "45545      36921\n",
       "5170       36892\n",
       "1188399    35869\n",
       "1184175    35830\n",
       "3786801    35829\n",
       "418593     35779\n",
       "52347      34922\n",
       "6520       34440\n",
       "200753     34252\n",
       "1037619    33789\n",
       "2412369    33786\n",
       "4109       33133\n",
       "15856      32196\n",
       "2117       32184\n",
       "6011       32167\n",
       "1671832    31918\n",
       "7126       31841\n",
       "3634907    31635\n",
       "11561      31542\n",
       "100896     31018\n",
       "2371095    30927\n",
       "Name: cl, dtype: int64"
      ]
     },
     "execution_count": 21,
     "metadata": {},
     "output_type": "execute_result"
    }
   ],
   "source": [
    "df.cl.value_counts().head(50)"
   ]
  },
  {
   "cell_type": "code",
   "execution_count": 22,
   "metadata": {},
   "outputs": [
    {
     "name": "stdout",
     "output_type": "stream",
     "text": [
      "num_clusters: 3930675\n",
      "num_bigger_than_100: 66884 (1.7%)\n",
      "num_singletons: 1948810 (49.6%)\n"
     ]
    }
   ],
   "source": [
    "vc = df.cl.value_counts()\n",
    "num_bigger_than_100 = (vc>100).sum()\n",
    "num_singletons = (vc==1).sum()\n",
    "num_clusters = df.cl.nunique()\n",
    "print(\"num_clusters: {}\".format(num_clusters))\n",
    "print(\"num_bigger_than_100: {} ({:.1f}%)\".format(num_bigger_than_100, float(num_bigger_than_100)/num_clusters*100))\n",
    "print(\"num_singletons: {} ({:.1f}%)\".format(num_singletons, float(num_singletons)/num_clusters*100))"
   ]
  },
  {
   "cell_type": "code",
   "execution_count": 23,
   "metadata": {},
   "outputs": [
    {
     "data": {
      "text/plain": [
       "77071690L"
      ]
     },
     "execution_count": 23,
     "metadata": {},
     "output_type": "execute_result"
    }
   ],
   "source": [
    "vc.sum()"
   ]
  },
  {
   "cell_type": "code",
   "execution_count": 24,
   "metadata": {
    "collapsed": true
   },
   "outputs": [],
   "source": [
    "def output_stats(vc, subset):\n",
    "    total_num_clusters = len(vc)\n",
    "    subset_num_clusters = len(subset)\n",
    "    total_num_papers = vc.sum()\n",
    "    subset_num_papers = subset.sum()\n",
    "    proportion_clusters = float(subset_num_clusters) / total_num_clusters\n",
    "    proportion_papers = float(subset_num_papers) / total_num_papers\n",
    "    print(\"number of clusters in subset: {} ({:.1f}%)\".format(subset_num_clusters, proportion_clusters*100))\n",
    "    print(\"number of papers in subset: {} ({:.1f}%)\".format(subset_num_papers, proportion_papers*100))"
   ]
  },
  {
   "cell_type": "code",
   "execution_count": 33,
   "metadata": {},
   "outputs": [
    {
     "name": "stdout",
     "output_type": "stream",
     "text": [
      "singleton clusters (one paper in the cluster)\n",
      "----------------------------------------\n",
      "number of clusters in subset: 1948810 (49.6%)\n",
      "number of papers in subset: 1948810 (2.5%)\n",
      "\n",
      ">=10 papers\n",
      "----------------------------------------\n",
      "number of clusters in subset: 815568 (20.7%)\n",
      "number of papers in subset: 70760532 (91.8%)\n",
      "\n",
      ">=20 papers\n",
      "----------------------------------------\n",
      "number of clusters in subset: 428241 (10.9%)\n",
      "number of papers in subset: 65352293 (84.8%)\n",
      "\n",
      ">=50 papers\n",
      "----------------------------------------\n",
      "number of clusters in subset: 131552 (3.3%)\n",
      "number of papers in subset: 56738069 (73.6%)\n",
      "\n",
      ">=100 papers\n",
      "----------------------------------------\n",
      "number of clusters in subset: 67466 (1.7%)\n",
      "number of papers in subset: 52379941 (68.0%)\n",
      "\n",
      ">=500 papers\n",
      "----------------------------------------\n",
      "number of clusters in subset: 18409 (0.5%)\n",
      "number of papers in subset: 42210319 (54.8%)\n",
      "\n",
      ">=1000 papers\n",
      "----------------------------------------\n",
      "number of clusters in subset: 10373 (0.3%)\n",
      "number of papers in subset: 36573773 (47.5%)\n",
      "\n",
      ">=10000 papers\n",
      "----------------------------------------\n",
      "number of clusters in subset: 602 (0.0%)\n",
      "number of papers in subset: 10414366 (13.5%)\n",
      "\n",
      ">=20000 papers\n",
      "----------------------------------------\n",
      "number of clusters in subset: 136 (0.0%)\n",
      "number of papers in subset: 4141146 (5.4%)\n",
      "\n",
      ">=50000 papers\n",
      "----------------------------------------\n",
      "number of clusters in subset: 9 (0.0%)\n",
      "number of papers in subset: 539007 (0.7%)\n",
      "\n",
      ">=60000 papers\n",
      "----------------------------------------\n",
      "number of clusters in subset: 4 (0.0%)\n",
      "number of papers in subset: 265755 (0.3%)\n",
      "\n",
      ">=70000 papers\n",
      "----------------------------------------\n",
      "number of clusters in subset: 1 (0.0%)\n",
      "number of papers in subset: 70336 (0.1%)\n",
      "\n",
      ">=80000 papers\n",
      "----------------------------------------\n",
      "number of clusters in subset: 0 (0.0%)\n",
      "number of papers in subset: 0 (0.0%)\n",
      "\n",
      "----------------------------------------\n",
      "\n",
      "between 10 and 100\n",
      "----------------------------------------\n",
      "number of clusters in subset: 748102 (19.0%)\n",
      "number of papers in subset: 18380591 (23.8%)\n",
      "\n",
      "between 100 and 200\n",
      "----------------------------------------\n",
      "number of clusters in subset: 29269 (0.7%)\n",
      "number of papers in subset: 4039892 (5.2%)\n",
      "\n",
      "between 200 and 300\n",
      "----------------------------------------\n",
      "number of clusters in subset: 10518 (0.3%)\n",
      "number of papers in subset: 2560736 (3.3%)\n",
      "\n",
      "between 300 and 400\n",
      "----------------------------------------\n",
      "number of clusters in subset: 5630 (0.1%)\n",
      "number of papers in subset: 1944119 (2.5%)\n",
      "\n",
      "between 400 and 500\n",
      "----------------------------------------\n",
      "number of clusters in subset: 3640 (0.1%)\n",
      "number of papers in subset: 1624875 (2.1%)\n",
      "\n",
      "between 500 and 1000\n",
      "----------------------------------------\n",
      "number of clusters in subset: 8036 (0.2%)\n",
      "number of papers in subset: 5636546 (7.3%)\n",
      "\n",
      "between 1000 and 2000\n",
      "----------------------------------------\n",
      "number of clusters in subset: 5006 (0.1%)\n",
      "number of papers in subset: 7032433 (9.1%)\n",
      "\n",
      "between 2000 and 4000\n",
      "----------------------------------------\n",
      "number of clusters in subset: 2975 (0.1%)\n",
      "number of papers in subset: 8284631 (10.7%)\n",
      "\n",
      "between 4000 and 5000\n",
      "----------------------------------------\n",
      "number of clusters in subset: 598 (0.0%)\n",
      "number of papers in subset: 2666798 (3.5%)\n",
      "\n",
      "between 5000 and 10000\n",
      "----------------------------------------\n",
      "number of clusters in subset: 1192 (0.0%)\n",
      "number of papers in subset: 8175545 (10.6%)\n",
      "\n",
      "between 10000 and 80000\n",
      "----------------------------------------\n",
      "number of clusters in subset: 602 (0.0%)\n",
      "number of papers in subset: 10414366 (13.5%)\n",
      "\n"
     ]
    }
   ],
   "source": [
    "print(\"singleton clusters (one paper in the cluster)\")\n",
    "print(\"-\"*40)\n",
    "output_stats(vc, vc[vc==1])\n",
    "print(\"\")\n",
    "\n",
    "for i in [10, 20, 50, 100, 500, 1000, 10000, 20000, 50000, 60000, 70000, 80000]:\n",
    "    print(\">={} papers\".format(i))\n",
    "    print(\"-\"*40)\n",
    "    output_stats(vc, vc[vc>=i])\n",
    "    print(\"\")\n",
    "\n",
    "print(\"-\"*40)\n",
    "print(\"\")\n",
    "\n",
    "ranges = [10, 100, 200, 300, 400, 500, 1000, 2000, 4000, 5000, 10000, 80000]\n",
    "for i in range(len(ranges)-1):\n",
    "    lower = ranges[i]\n",
    "    upper = ranges[i+1]\n",
    "    print(\"between {} and {}\".format(lower, upper))\n",
    "    print(\"-\"*40)\n",
    "    output_stats(vc, vc[(vc>=lower) & (vc<upper)])\n",
    "    print(\"\")"
   ]
  },
  {
   "cell_type": "code",
   "execution_count": null,
   "metadata": {
    "collapsed": true
   },
   "outputs": [],
   "source": []
  },
  {
   "cell_type": "code",
   "execution_count": 35,
   "metadata": {},
   "outputs": [
    {
     "ename": "KeyboardInterrupt",
     "evalue": "",
     "output_type": "error",
     "traceback": [
      "\u001b[0;31m---------------------------------------------------------------------------\u001b[0m",
      "\u001b[0;31mKeyboardInterrupt\u001b[0m                         Traceback (most recent call last)",
      "\u001b[0;32m<ipython-input-35-c5b42109856f>\u001b[0m in \u001b[0;36m<module>\u001b[0;34m()\u001b[0m\n\u001b[0;32m----> 1\u001b[0;31m \u001b[0mtop_cluster\u001b[0m \u001b[0;34m=\u001b[0m \u001b[0mdf\u001b[0m\u001b[0;34m.\u001b[0m\u001b[0mcl\u001b[0m\u001b[0;34m.\u001b[0m\u001b[0mapply\u001b[0m\u001b[0;34m(\u001b[0m\u001b[0;32mlambda\u001b[0m \u001b[0mx\u001b[0m\u001b[0;34m:\u001b[0m \u001b[0mx\u001b[0m\u001b[0;34m)\u001b[0m\u001b[0;34m\u001b[0m\u001b[0m\n\u001b[0m",
      "\u001b[0;32m/home/jporteno/anaconda2/lib/python2.7/site-packages/pandas/core/series.pyc\u001b[0m in \u001b[0;36mapply\u001b[0;34m(self, func, convert_dtype, args, **kwds)\u001b[0m\n\u001b[1;32m   2353\u001b[0m             \u001b[0;32melse\u001b[0m\u001b[0;34m:\u001b[0m\u001b[0;34m\u001b[0m\u001b[0m\n\u001b[1;32m   2354\u001b[0m                 \u001b[0mvalues\u001b[0m \u001b[0;34m=\u001b[0m \u001b[0mself\u001b[0m\u001b[0;34m.\u001b[0m\u001b[0masobject\u001b[0m\u001b[0;34m\u001b[0m\u001b[0m\n\u001b[0;32m-> 2355\u001b[0;31m                 \u001b[0mmapped\u001b[0m \u001b[0;34m=\u001b[0m \u001b[0mlib\u001b[0m\u001b[0;34m.\u001b[0m\u001b[0mmap_infer\u001b[0m\u001b[0;34m(\u001b[0m\u001b[0mvalues\u001b[0m\u001b[0;34m,\u001b[0m \u001b[0mf\u001b[0m\u001b[0;34m,\u001b[0m \u001b[0mconvert\u001b[0m\u001b[0;34m=\u001b[0m\u001b[0mconvert_dtype\u001b[0m\u001b[0;34m)\u001b[0m\u001b[0;34m\u001b[0m\u001b[0m\n\u001b[0m\u001b[1;32m   2356\u001b[0m \u001b[0;34m\u001b[0m\u001b[0m\n\u001b[1;32m   2357\u001b[0m         \u001b[0;32mif\u001b[0m \u001b[0mlen\u001b[0m\u001b[0;34m(\u001b[0m\u001b[0mmapped\u001b[0m\u001b[0;34m)\u001b[0m \u001b[0;32mand\u001b[0m \u001b[0misinstance\u001b[0m\u001b[0;34m(\u001b[0m\u001b[0mmapped\u001b[0m\u001b[0;34m[\u001b[0m\u001b[0;36m0\u001b[0m\u001b[0;34m]\u001b[0m\u001b[0;34m,\u001b[0m \u001b[0mSeries\u001b[0m\u001b[0;34m)\u001b[0m\u001b[0;34m:\u001b[0m\u001b[0;34m\u001b[0m\u001b[0m\n",
      "\u001b[0;31mKeyboardInterrupt\u001b[0m: "
     ]
    }
   ],
   "source": [
    "top_cluster = df.cl.apply(lambda x: x)"
   ]
  },
  {
   "cell_type": "code",
   "execution_count": 36,
   "metadata": {},
   "outputs": [
    {
     "data": {
      "text/plain": [
       "1395247    70336\n",
       "17462      67606\n",
       "47090      64902\n",
       "8254       62911\n",
       "37791      59260\n",
       "3895735    56040\n",
       "45274      54693\n",
       "12398      52291\n",
       "517846     50968\n",
       "1772       47894\n",
       "2255739    47543\n",
       "1043449    44848\n",
       "3375       44309\n",
       "159478     43645\n",
       "184076     42870\n",
       "731335     42071\n",
       "89137      41534\n",
       "923732     40981\n",
       "80655      40492\n",
       "93175      39935\n",
       "87447      39631\n",
       "1418889    39312\n",
       "143350     38569\n",
       "1592944    38355\n",
       "262031     38345\n",
       "556759     38265\n",
       "76943      37691\n",
       "3240167    37562\n",
       "222735     37201\n",
       "45545      36921\n",
       "           ...  \n",
       "2459920        1\n",
       "2983952        1\n",
       "1347376        1\n",
       "1216497        1\n",
       "1282001        1\n",
       "1478513        1\n",
       "1609393        1\n",
       "2002545        1\n",
       "2068049        1\n",
       "1936913        1\n",
       "3705520        1\n",
       "3836656        1\n",
       "3640144        1\n",
       "3574640        1\n",
       "1412880        1\n",
       "1806032        1\n",
       "1609392        1\n",
       "2068048        1\n",
       "1871408        1\n",
       "232912         1\n",
       "36272          1\n",
       "429424         1\n",
       "363792         1\n",
       "560304         1\n",
       "625808         1\n",
       "822320         1\n",
       "3312624        1\n",
       "3378128        1\n",
       "3181488        1\n",
       "65568          1\n",
       "Name: cl, Length: 3930675, dtype: int64"
      ]
     },
     "execution_count": 36,
     "metadata": {},
     "output_type": "execute_result"
    }
   ],
   "source": [
    "vc.to_csv()"
   ]
  },
  {
   "cell_type": "code",
   "execution_count": 39,
   "metadata": {},
   "outputs": [
    {
     "name": "stdout",
     "output_type": "stream",
     "text": [
      "1395247\n"
     ]
    }
   ],
   "source": [
    "for i, (cluster_name, cluster_size) in enumerate(vc.iteritems()):\n",
    "    print(cluster_name)\n",
    "    break"
   ]
  }
 ],
 "metadata": {
  "kernelspec": {
   "display_name": "Python 2",
   "language": "python",
   "name": "python2"
  },
  "language_info": {
   "codemirror_mode": {
    "name": "ipython",
    "version": 2
   },
   "file_extension": ".py",
   "mimetype": "text/x-python",
   "name": "python",
   "nbconvert_exporter": "python",
   "pygments_lexer": "ipython2",
   "version": "2.7.13"
  }
 },
 "nbformat": 4,
 "nbformat_minor": 2
}
